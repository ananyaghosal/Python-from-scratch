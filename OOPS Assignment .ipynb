{
 "cells": [
  {
   "cell_type": "code",
   "execution_count": null,
   "metadata": {},
   "outputs": [],
   "source": [
    "# multiple inheritence"
   ]
  },
  {
   "cell_type": "code",
   "execution_count": 6,
   "metadata": {},
   "outputs": [
    {
     "name": "stdout",
     "output_type": "stream",
     "text": [
      "Students belongs to:\n",
      "Engineering CSE\n"
     ]
    }
   ],
   "source": [
    " \n",
    "class College: \n",
    "    def __init__(self): \n",
    "        self.str1 = \"Engineering\"\n",
    "        \n",
    "class Domain: \n",
    "    def __init__(self): \n",
    "        self.str2 = \"CSE\"        \n",
    "        \n",
    "class Student(College, Domain): \n",
    "    def __init__(self): \n",
    "        College.__init__(self) \n",
    "        Domain.__init__(self) \n",
    "        print (\"Students belongs to:\")\n",
    "    def methods(self):\n",
    "        print(self.str1, self.str2) \n",
    "ob = Student() \n",
    "ob.methods()\n"
   ]
  },
  {
   "cell_type": "code",
   "execution_count": null,
   "metadata": {},
   "outputs": [],
   "source": [
    "#Multi level Inheritance:"
   ]
  },
  {
   "cell_type": "code",
   "execution_count": 8,
   "metadata": {},
   "outputs": [
    {
     "name": "stdout",
     "output_type": "stream",
     "text": [
      "Ravi 12 Noida\n"
     ]
    }
   ],
   "source": [
    " \n",
    "class Family: \n",
    "    def __init__(self, name): \n",
    "        self.name = name \n",
    "    def getName(self): \n",
    "        return self.name \n",
    "  \n",
    "  \n",
    "# Inherited or Sub class (Note Person in bracket) \n",
    "class Child(Family): \n",
    "    def __init__(self, name, age): \n",
    "        Family.__init__(self, name) \n",
    "        self.age = age \n",
    "  \n",
    "    def getAge(self): \n",
    "        return self.age \n",
    "    #Inherited to the next subclass\n",
    "class Siblings(Child):\n",
    "    def __init__(self, name, age, address): \n",
    "        Child.__init__(self, name, age) \n",
    "        self.address = address \n",
    "  \n",
    "    # To get address \n",
    "    def getAddress(self): \n",
    "        return self.address         \n",
    "g = Siblings(\"Ravi\", 12, \"Noida\")   \n",
    "print(g.getName(), g.getAge(), g.getAddress())"
   ]
  },
  {
   "cell_type": "code",
   "execution_count": null,
   "metadata": {},
   "outputs": [],
   "source": []
  }
 ],
 "metadata": {
  "kernelspec": {
   "display_name": "Python 3",
   "language": "python",
   "name": "python3"
  },
  "language_info": {
   "codemirror_mode": {
    "name": "ipython",
    "version": 3
   },
   "file_extension": ".py",
   "mimetype": "text/x-python",
   "name": "python",
   "nbconvert_exporter": "python",
   "pygments_lexer": "ipython3",
   "version": "3.7.1"
  }
 },
 "nbformat": 4,
 "nbformat_minor": 2
}
